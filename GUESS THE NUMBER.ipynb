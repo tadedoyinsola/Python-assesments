{
 "cells": [
  {
   "cell_type": "code",
   "execution_count": 14,
   "id": "acquired-desktop",
   "metadata": {},
   "outputs": [],
   "source": [
    "#GUESS A NUMBER RANDOMLY\n",
    "def guess_number(a):\n",
    "    if a<10:\n",
    "        return ('guess_too_low')\n",
    "    elif a==10:\n",
    "        return ('guess_correct')\n",
    "    elif a>10:\n",
    "        return ('guess_too_high')\n",
    "    else:\n",
    "        return ('wrong_guess')\n",
    "    \n",
    "            "
   ]
  },
  {
   "cell_type": "code",
   "execution_count": 17,
   "id": "meaningful-hampshire",
   "metadata": {},
   "outputs": [
    {
     "name": "stdout",
     "output_type": "stream",
     "text": [
      "guess_too_low\n"
     ]
    }
   ],
   "source": [
    "print (guess_number(5))"
   ]
  },
  {
   "cell_type": "code",
   "execution_count": 18,
   "id": "integral-heavy",
   "metadata": {},
   "outputs": [
    {
     "name": "stdout",
     "output_type": "stream",
     "text": [
      "guess_correct\n"
     ]
    }
   ],
   "source": [
    "print (guess_number(10))"
   ]
  },
  {
   "cell_type": "code",
   "execution_count": 19,
   "id": "correct-disclosure",
   "metadata": {},
   "outputs": [
    {
     "name": "stdout",
     "output_type": "stream",
     "text": [
      "guess_too_high\n"
     ]
    }
   ],
   "source": [
    "print (guess_number(17))"
   ]
  },
  {
   "cell_type": "code",
   "execution_count": 20,
   "id": "orange-newman",
   "metadata": {},
   "outputs": [
    {
     "name": "stdout",
     "output_type": "stream",
     "text": [
      "guess_too_low\n"
     ]
    }
   ],
   "source": [
    "print (guess_number(9))"
   ]
  },
  {
   "cell_type": "code",
   "execution_count": null,
   "id": "economic-pitch",
   "metadata": {},
   "outputs": [],
   "source": []
  }
 ],
 "metadata": {
  "kernelspec": {
   "display_name": "Python 3",
   "language": "python",
   "name": "python3"
  },
  "language_info": {
   "codemirror_mode": {
    "name": "ipython",
    "version": 3
   },
   "file_extension": ".py",
   "mimetype": "text/x-python",
   "name": "python",
   "nbconvert_exporter": "python",
   "pygments_lexer": "ipython3",
   "version": "3.7.7"
  }
 },
 "nbformat": 4,
 "nbformat_minor": 5
}
