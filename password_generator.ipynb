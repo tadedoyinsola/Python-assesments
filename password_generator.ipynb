{
 "cells": [
  {
   "cell_type": "code",
   "execution_count": 2,
   "id": "collectible-conspiracy",
   "metadata": {},
   "outputs": [],
   "source": [
    "#IMPORTING THE NECESSARY LIBRARIES\n",
    "import random\n",
    "import string"
   ]
  },
  {
   "cell_type": "code",
   "execution_count": 15,
   "id": "mysterious-guitar",
   "metadata": {},
   "outputs": [
    {
     "name": "stdout",
     "output_type": "stream",
     "text": [
      "How long should your password be? Please,type in numbers11\n"
     ]
    }
   ],
   "source": [
    "random.choice(string.ascii_lowercase)\n",
    "random.choice(string.ascii_uppercase)\n",
    "random.choice(string.digits)\n",
    "random.choice(string.punctuation)\n",
    "password_length = int(input(\"How long should your password be? Please,type in numbers\"))\n",
    "possible_characters = string.ascii_letters + string.digits + string.punctuation\n",
    "password = []\n",
    "for x in range(password_length):\n",
    "    password.append(random.choice(possible_characters))"
   ]
  },
  {
   "cell_type": "code",
   "execution_count": 29,
   "id": "documented-orbit",
   "metadata": {},
   "outputs": [
    {
     "name": "stdout",
     "output_type": "stream",
     "text": [
      "['\\\\', 'O', '-', 'b', 'V', '.', '+', 'n', 'y', 'h', '6', '}']\n"
     ]
    }
   ],
   "source": [
    "print(password)"
   ]
  },
  {
   "cell_type": "code",
   "execution_count": 31,
   "id": "reflected-dispatch",
   "metadata": {},
   "outputs": [
    {
     "name": "stdout",
     "output_type": "stream",
     "text": [
      "['q', 'x', '#', 'K', '?', 'v', 'H', '_', '\\\\', ']']\n"
     ]
    }
   ],
   "source": [
    "print(password)"
   ]
  },
  {
   "cell_type": "code",
   "execution_count": 4,
   "id": "structured-federation",
   "metadata": {},
   "outputs": [
    {
     "name": "stdout",
     "output_type": "stream",
     "text": [
      "['m', '~', 'E', 'q', 'k', 'M', '/', 'x']\n"
     ]
    }
   ],
   "source": [
    "print(password)"
   ]
  },
  {
   "cell_type": "code",
   "execution_count": null,
   "id": "competitive-express",
   "metadata": {},
   "outputs": [],
   "source": []
  }
 ],
 "metadata": {
  "kernelspec": {
   "display_name": "Python 3",
   "language": "python",
   "name": "python3"
  },
  "language_info": {
   "codemirror_mode": {
    "name": "ipython",
    "version": 3
   },
   "file_extension": ".py",
   "mimetype": "text/x-python",
   "name": "python",
   "nbconvert_exporter": "python",
   "pygments_lexer": "ipython3",
   "version": "3.7.7"
  }
 },
 "nbformat": 4,
 "nbformat_minor": 5
}
