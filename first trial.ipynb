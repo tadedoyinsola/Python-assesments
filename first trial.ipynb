{
 "cells": [
  {
   "cell_type": "markdown",
   "id": "advance-stewart",
   "metadata": {},
   "source": [
    "# FLIGHT DELAY PREDICTION"
   ]
  },
  {
   "cell_type": "code",
   "execution_count": 1,
   "id": "humanitarian-kentucky",
   "metadata": {},
   "outputs": [],
   "source": [
    "import pandas as pd  # for data manipulation\n",
    "import numpy as np    # for mathematical calculation\n",
    "import seaborn as sns   # for data visualisation\n",
    "import matplotlib.pyplot as plt   #for plotting graph\n",
    "%matplotlib inline \n",
    "#matplotlib inline ensures command in cells bellow the cell that outputs a plot does not affect the plot\n",
    "from sklearn.preprocessing import LabelEncoder, OneHotEncoder\n",
    "from sklearn.model_selection import train_test_split\n",
    "from sklearn import metrics\n",
    "import pandas_profiling\n",
    "import warnings   # to ignore warnings\n",
    "\n",
    "#import all libraries and modules at the beginning of the code"
   ]
  },
  {
   "cell_type": "markdown",
   "id": "clean-legend",
   "metadata": {},
   "source": [
    "# LOADING THE DATASETS"
   ]
  },
  {
   "cell_type": "code",
   "execution_count": 2,
   "id": "differential-composite",
   "metadata": {},
   "outputs": [],
   "source": [
    "#reading the datasets\n",
    "train = pd.read_csv('train_flight.csv')\n",
    "test= pd.read_csv('test_flight.csv')"
   ]
  },
  {
   "cell_type": "code",
   "execution_count": 3,
   "id": "excellent-reggae",
   "metadata": {},
   "outputs": [
    {
     "data": {
      "text/html": [
       "<div>\n",
       "<style scoped>\n",
       "    .dataframe tbody tr th:only-of-type {\n",
       "        vertical-align: middle;\n",
       "    }\n",
       "\n",
       "    .dataframe tbody tr th {\n",
       "        vertical-align: top;\n",
       "    }\n",
       "\n",
       "    .dataframe thead th {\n",
       "        text-align: right;\n",
       "    }\n",
       "</style>\n",
       "<table border=\"1\" class=\"dataframe\">\n",
       "  <thead>\n",
       "    <tr style=\"text-align: right;\">\n",
       "      <th></th>\n",
       "      <th>ID</th>\n",
       "      <th>DATOP</th>\n",
       "      <th>FLTID</th>\n",
       "      <th>DEPSTN</th>\n",
       "      <th>ARRSTN</th>\n",
       "      <th>STD</th>\n",
       "      <th>STA</th>\n",
       "      <th>STATUS</th>\n",
       "      <th>AC</th>\n",
       "      <th>target</th>\n",
       "    </tr>\n",
       "  </thead>\n",
       "  <tbody>\n",
       "    <tr>\n",
       "      <th>0</th>\n",
       "      <td>train_id_0</td>\n",
       "      <td>2016-01-03</td>\n",
       "      <td>TU 0712</td>\n",
       "      <td>CMN</td>\n",
       "      <td>TUN</td>\n",
       "      <td>2016-01-03 10:30:00</td>\n",
       "      <td>2016-01-03 12.55.00</td>\n",
       "      <td>ATA</td>\n",
       "      <td>TU 32AIMN</td>\n",
       "      <td>260.0</td>\n",
       "    </tr>\n",
       "    <tr>\n",
       "      <th>1</th>\n",
       "      <td>train_id_1</td>\n",
       "      <td>2016-01-13</td>\n",
       "      <td>TU 0757</td>\n",
       "      <td>MXP</td>\n",
       "      <td>TUN</td>\n",
       "      <td>2016-01-13 15:05:00</td>\n",
       "      <td>2016-01-13 16.55.00</td>\n",
       "      <td>ATA</td>\n",
       "      <td>TU 31BIMO</td>\n",
       "      <td>20.0</td>\n",
       "    </tr>\n",
       "    <tr>\n",
       "      <th>2</th>\n",
       "      <td>train_id_2</td>\n",
       "      <td>2016-01-16</td>\n",
       "      <td>TU 0214</td>\n",
       "      <td>TUN</td>\n",
       "      <td>IST</td>\n",
       "      <td>2016-01-16 04:10:00</td>\n",
       "      <td>2016-01-16 06.45.00</td>\n",
       "      <td>ATA</td>\n",
       "      <td>TU 32AIMN</td>\n",
       "      <td>0.0</td>\n",
       "    </tr>\n",
       "    <tr>\n",
       "      <th>3</th>\n",
       "      <td>train_id_3</td>\n",
       "      <td>2016-01-17</td>\n",
       "      <td>TU 0480</td>\n",
       "      <td>DJE</td>\n",
       "      <td>NTE</td>\n",
       "      <td>2016-01-17 14:10:00</td>\n",
       "      <td>2016-01-17 17.00.00</td>\n",
       "      <td>ATA</td>\n",
       "      <td>TU 736IOK</td>\n",
       "      <td>0.0</td>\n",
       "    </tr>\n",
       "    <tr>\n",
       "      <th>4</th>\n",
       "      <td>train_id_4</td>\n",
       "      <td>2016-01-17</td>\n",
       "      <td>TU 0338</td>\n",
       "      <td>TUN</td>\n",
       "      <td>ALG</td>\n",
       "      <td>2016-01-17 14:30:00</td>\n",
       "      <td>2016-01-17 15.50.00</td>\n",
       "      <td>ATA</td>\n",
       "      <td>TU 320IMU</td>\n",
       "      <td>22.0</td>\n",
       "    </tr>\n",
       "  </tbody>\n",
       "</table>\n",
       "</div>"
      ],
      "text/plain": [
       "           ID       DATOP     FLTID DEPSTN ARRSTN                  STD  \\\n",
       "0  train_id_0  2016-01-03  TU 0712     CMN    TUN  2016-01-03 10:30:00   \n",
       "1  train_id_1  2016-01-13  TU 0757     MXP    TUN  2016-01-13 15:05:00   \n",
       "2  train_id_2  2016-01-16  TU 0214     TUN    IST  2016-01-16 04:10:00   \n",
       "3  train_id_3  2016-01-17  TU 0480     DJE    NTE  2016-01-17 14:10:00   \n",
       "4  train_id_4  2016-01-17  TU 0338     TUN    ALG  2016-01-17 14:30:00   \n",
       "\n",
       "                   STA STATUS         AC  target  \n",
       "0  2016-01-03 12.55.00    ATA  TU 32AIMN   260.0  \n",
       "1  2016-01-13 16.55.00    ATA  TU 31BIMO    20.0  \n",
       "2  2016-01-16 06.45.00    ATA  TU 32AIMN     0.0  \n",
       "3  2016-01-17 17.00.00    ATA  TU 736IOK     0.0  \n",
       "4  2016-01-17 15.50.00    ATA  TU 320IMU    22.0  "
      ]
     },
     "execution_count": 3,
     "metadata": {},
     "output_type": "execute_result"
    }
   ],
   "source": [
    "train.head()#Previewing the dataset"
   ]
  },
  {
   "cell_type": "code",
   "execution_count": 4,
   "id": "editorial-northwest",
   "metadata": {},
   "outputs": [
    {
     "data": {
      "text/html": [
       "<div>\n",
       "<style scoped>\n",
       "    .dataframe tbody tr th:only-of-type {\n",
       "        vertical-align: middle;\n",
       "    }\n",
       "\n",
       "    .dataframe tbody tr th {\n",
       "        vertical-align: top;\n",
       "    }\n",
       "\n",
       "    .dataframe thead th {\n",
       "        text-align: right;\n",
       "    }\n",
       "</style>\n",
       "<table border=\"1\" class=\"dataframe\">\n",
       "  <thead>\n",
       "    <tr style=\"text-align: right;\">\n",
       "      <th></th>\n",
       "      <th>ID</th>\n",
       "      <th>DATOP</th>\n",
       "      <th>FLTID</th>\n",
       "      <th>DEPSTN</th>\n",
       "      <th>ARRSTN</th>\n",
       "      <th>STD</th>\n",
       "      <th>STA</th>\n",
       "      <th>STATUS</th>\n",
       "      <th>AC</th>\n",
       "    </tr>\n",
       "  </thead>\n",
       "  <tbody>\n",
       "    <tr>\n",
       "      <th>0</th>\n",
       "      <td>test_id_0</td>\n",
       "      <td>2016-05-04</td>\n",
       "      <td>TU 0700</td>\n",
       "      <td>DJE</td>\n",
       "      <td>TUN</td>\n",
       "      <td>2016-05-04 06:40:00</td>\n",
       "      <td>2016-05-04 07.30.00</td>\n",
       "      <td>ATA</td>\n",
       "      <td>TU 32AIMF</td>\n",
       "    </tr>\n",
       "    <tr>\n",
       "      <th>1</th>\n",
       "      <td>test_id_1</td>\n",
       "      <td>2016-05-05</td>\n",
       "      <td>TU 0395</td>\n",
       "      <td>TUN</td>\n",
       "      <td>BKO</td>\n",
       "      <td>2016-05-05 15:20:00</td>\n",
       "      <td>2016-05-05 20.05.00</td>\n",
       "      <td>ATA</td>\n",
       "      <td>TU 320IMW</td>\n",
       "    </tr>\n",
       "    <tr>\n",
       "      <th>2</th>\n",
       "      <td>test_id_2</td>\n",
       "      <td>2016-05-06</td>\n",
       "      <td>TU 0745</td>\n",
       "      <td>FRA</td>\n",
       "      <td>TUN</td>\n",
       "      <td>2016-05-06 10:00:00</td>\n",
       "      <td>2016-05-06 12.25.00</td>\n",
       "      <td>ATA</td>\n",
       "      <td>TU 32AIMC</td>\n",
       "    </tr>\n",
       "    <tr>\n",
       "      <th>3</th>\n",
       "      <td>test_id_3</td>\n",
       "      <td>2016-05-11</td>\n",
       "      <td>TU 0848</td>\n",
       "      <td>BEY</td>\n",
       "      <td>TUN</td>\n",
       "      <td>2016-05-11 09:40:00</td>\n",
       "      <td>2016-05-11 13.10.00</td>\n",
       "      <td>ATA</td>\n",
       "      <td>TU 31BIMO</td>\n",
       "    </tr>\n",
       "    <tr>\n",
       "      <th>4</th>\n",
       "      <td>test_id_4</td>\n",
       "      <td>2016-05-11</td>\n",
       "      <td>TU 0635</td>\n",
       "      <td>ORY</td>\n",
       "      <td>MIR</td>\n",
       "      <td>2016-05-11 09:50:00</td>\n",
       "      <td>2016-05-11 12.35.00</td>\n",
       "      <td>ATA</td>\n",
       "      <td>TU 736IOQ</td>\n",
       "    </tr>\n",
       "  </tbody>\n",
       "</table>\n",
       "</div>"
      ],
      "text/plain": [
       "          ID       DATOP     FLTID DEPSTN ARRSTN                  STD  \\\n",
       "0  test_id_0  2016-05-04  TU 0700     DJE    TUN  2016-05-04 06:40:00   \n",
       "1  test_id_1  2016-05-05  TU 0395     TUN    BKO  2016-05-05 15:20:00   \n",
       "2  test_id_2  2016-05-06  TU 0745     FRA    TUN  2016-05-06 10:00:00   \n",
       "3  test_id_3  2016-05-11  TU 0848     BEY    TUN  2016-05-11 09:40:00   \n",
       "4  test_id_4  2016-05-11  TU 0635     ORY    MIR  2016-05-11 09:50:00   \n",
       "\n",
       "                   STA STATUS         AC  \n",
       "0  2016-05-04 07.30.00    ATA  TU 32AIMF  \n",
       "1  2016-05-05 20.05.00    ATA  TU 320IMW  \n",
       "2  2016-05-06 12.25.00    ATA  TU 32AIMC  \n",
       "3  2016-05-11 13.10.00    ATA  TU 31BIMO  \n",
       "4  2016-05-11 12.35.00    ATA  TU 736IOQ  "
      ]
     },
     "execution_count": 4,
     "metadata": {},
     "output_type": "execute_result"
    }
   ],
   "source": [
    "test.head()"
   ]
  },
  {
   "cell_type": "code",
   "execution_count": 5,
   "id": "oriented-runner",
   "metadata": {},
   "outputs": [
    {
     "data": {
      "text/plain": [
       "ID        0\n",
       "DATOP     0\n",
       "FLTID     0\n",
       "DEPSTN    0\n",
       "ARRSTN    0\n",
       "STD       0\n",
       "STA       0\n",
       "STATUS    0\n",
       "AC        0\n",
       "target    0\n",
       "dtype: int64"
      ]
     },
     "execution_count": 5,
     "metadata": {},
     "output_type": "execute_result"
    }
   ],
   "source": [
    "train.isnull().sum() #Checking for missing values"
   ]
  },
  {
   "cell_type": "code",
   "execution_count": 6,
   "id": "prerequisite-norwegian",
   "metadata": {},
   "outputs": [
    {
     "data": {
      "text/plain": [
       "ID        0\n",
       "DATOP     0\n",
       "FLTID     0\n",
       "DEPSTN    0\n",
       "ARRSTN    0\n",
       "STD       0\n",
       "STA       0\n",
       "STATUS    0\n",
       "AC        0\n",
       "dtype: int64"
      ]
     },
     "execution_count": 6,
     "metadata": {},
     "output_type": "execute_result"
    }
   ],
   "source": [
    "test.isnull().sum()"
   ]
  },
  {
   "cell_type": "markdown",
   "id": "vanilla-fitness",
   "metadata": {},
   "source": [
    "# DESCRIPTIVE STATISTICS USING PANDAS PROFILING"
   ]
  },
  {
   "cell_type": "code",
   "execution_count": 7,
   "id": "muslim-diabetes",
   "metadata": {},
   "outputs": [],
   "source": [
    "#import pandas_profiling \n",
    "#train.profile_report()"
   ]
  },
  {
   "cell_type": "markdown",
   "id": "interracial-piano",
   "metadata": {},
   "source": [
    "# DATA VISUALIZATION"
   ]
  },
  {
   "cell_type": "code",
   "execution_count": 8,
   "id": "opposed-pattern",
   "metadata": {},
   "outputs": [
    {
     "data": {
      "text/plain": [
       "ATA    93679\n",
       "SCH    13242\n",
       "DEP      467\n",
       "RTR      294\n",
       "DEL      151\n",
       "Name: STATUS, dtype: int64"
      ]
     },
     "execution_count": 8,
     "metadata": {},
     "output_type": "execute_result"
    }
   ],
   "source": [
    "train['STATUS'].value_counts()"
   ]
  },
  {
   "cell_type": "code",
   "execution_count": 9,
   "id": "economic-demographic",
   "metadata": {},
   "outputs": [
    {
     "data": {
      "image/png": "[encoded data removed]",
      "text/plain": [
       "<Figure size 432x288 with 1 Axes>"
      ]
     },
     "metadata": {},
     "output_type": "display_data"
    }
   ],
   "source": [
    "slices= [100,60,40,30,20] #adding percentage to my chart\n",
    "labels = ['ATA','SCH','DEP','RTR','DEL']\n",
    "colors =['blue','red','yellow','cyan','green']\n",
    "explode =[0,0,0,0,0.1]\n",
    "plt.pie(slices,labels=labels,colors=colors, explode=explode, shadow=True, autopct='%1.1f%%',wedgeprops={'edgecolor':'black'})\n",
    "plt.title('Status')\n",
    "plt.tight_layout()\n",
    "\n",
    "plt.show()"
   ]
  },
  {
   "cell_type": "code",
   "execution_count": 10,
   "id": "armed-mount",
   "metadata": {},
   "outputs": [
    {
     "data": {
      "image/png": "[encoded data removed]",
      "text/plain": [
       "<Figure size 1440x1080 with 3 Axes>"
      ]
     },
     "metadata": {
      "needs_background": "light"
     },
     "output_type": "display_data"
    }
   ],
   "source": [
    "plt.figure(figsize=(20, 15))\n",
    "        #This specifies the size, the bigger the map,the easier we can  understand the map\n",
    "    \n",
    "sns.heatmap(train.corr())\n",
    "        #This is sufficient but adding the 'annot' argument makes interpretation easier\n",
    "    \n",
    "sns.heatmap(train.corr(), annot = True) # 'annot' helps display the correlation coefficient\n",
    "\n",
    "\n",
    "plt.show()"
   ]
  },
  {
   "cell_type": "markdown",
   "id": "comfortable-spyware",
   "metadata": {},
   "source": [
    "# DATETIME EXTRACTION"
   ]
  },
  {
   "cell_type": "code",
   "execution_count": 11,
   "id": "played-testing",
   "metadata": {},
   "outputs": [],
   "source": [
    "from datetime import datetime"
   ]
  },
  {
   "cell_type": "code",
   "execution_count": 12,
   "id": "happy-quality",
   "metadata": {},
   "outputs": [],
   "source": [
    "train['DATOP']= pd.to_datetime(train['DATOP'], format='%Y-%m-%d')"
   ]
  },
  {
   "cell_type": "code",
   "execution_count": 13,
   "id": "computational-suicide",
   "metadata": {},
   "outputs": [],
   "source": [
    "train['STD']= pd.to_datetime(train['STD'], format='%Y-%m-%d %H:%M:%S')"
   ]
  },
  {
   "cell_type": "code",
   "execution_count": 14,
   "id": "naval-rally",
   "metadata": {},
   "outputs": [],
   "source": [
    "train['STA']= pd.to_datetime(train['STA'], format='%Y-%m-%d %H.%M.%S')"
   ]
  },
  {
   "cell_type": "code",
   "execution_count": 15,
   "id": "continuing-writer",
   "metadata": {},
   "outputs": [],
   "source": [
    "date_column = ['STD','STA','DATOP']\n",
    "def extract_date(train,cols,):\n",
    "    for x in cols:\n",
    "        train[x+'_year']= train[x].dt.year\n",
    "        train[x+'_month']= train[x].dt.month\n",
    "        train[x+'_day']= train[x].dt.day\n",
    "        train[x+'_hour']= train[x].dt.hour\n",
    "        train[x+'_minute']= train[x].dt.minute\n",
    "        train[x+'_second']= train[x].dt.second\n",
    "    train.drop(columns=date_column, axis=1, inplace=True)\n",
    "extract_date(train,date_column) "
   ]
  },
  {
   "cell_type": "code",
   "execution_count": 16,
   "id": "saved-survivor",
   "metadata": {},
   "outputs": [
    {
     "data": {
      "text/html": [
       "<div>\n",
       "<style scoped>\n",
       "    .dataframe tbody tr th:only-of-type {\n",
       "        vertical-align: middle;\n",
       "    }\n",
       "\n",
       "    .dataframe tbody tr th {\n",
       "        vertical-align: top;\n",
       "    }\n",
       "\n",
       "    .dataframe thead th {\n",
       "        text-align: right;\n",
       "    }\n",
       "</style>\n",
       "<table border=\"1\" class=\"dataframe\">\n",
       "  <thead>\n",
       "    <tr style=\"text-align: right;\">\n",
       "      <th></th>\n",
       "      <th>ID</th>\n",
       "      <th>FLTID</th>\n",
       "      <th>DEPSTN</th>\n",
       "      <th>ARRSTN</th>\n",
       "      <th>STATUS</th>\n",
       "      <th>AC</th>\n",
       "      <th>target</th>\n",
       "      <th>STD_year</th>\n",
       "      <th>STD_month</th>\n",
       "      <th>STD_day</th>\n",
       "      <th>...</th>\n",
       "      <th>STA_day</th>\n",
       "      <th>STA_hour</th>\n",
       "      <th>STA_minute</th>\n",
       "      <th>STA_second</th>\n",
       "      <th>DATOP_year</th>\n",
       "      <th>DATOP_month</th>\n",
       "      <th>DATOP_day</th>\n",
       "      <th>DATOP_hour</th>\n",
       "      <th>DATOP_minute</th>\n",
       "      <th>DATOP_second</th>\n",
       "    </tr>\n",
       "  </thead>\n",
       "  <tbody>\n",
       "    <tr>\n",
       "      <th>0</th>\n",
       "      <td>train_id_0</td>\n",
       "      <td>TU 0712</td>\n",
       "      <td>CMN</td>\n",
       "      <td>TUN</td>\n",
       "      <td>ATA</td>\n",
       "      <td>TU 32AIMN</td>\n",
       "      <td>260.0</td>\n",
       "      <td>2016</td>\n",
       "      <td>1</td>\n",
       "      <td>3</td>\n",
       "      <td>...</td>\n",
       "      <td>3</td>\n",
       "      <td>12</td>\n",
       "      <td>55</td>\n",
       "      <td>0</td>\n",
       "      <td>2016</td>\n",
       "      <td>1</td>\n",
       "      <td>3</td>\n",
       "      <td>0</td>\n",
       "      <td>0</td>\n",
       "      <td>0</td>\n",
       "    </tr>\n",
       "    <tr>\n",
       "      <th>1</th>\n",
       "      <td>train_id_1</td>\n",
       "      <td>TU 0757</td>\n",
       "      <td>MXP</td>\n",
       "      <td>TUN</td>\n",
       "      <td>ATA</td>\n",
       "      <td>TU 31BIMO</td>\n",
       "      <td>20.0</td>\n",
       "      <td>2016</td>\n",
       "      <td>1</td>\n",
       "      <td>13</td>\n",
       "      <td>...</td>\n",
       "      <td>13</td>\n",
       "      <td>16</td>\n",
       "      <td>55</td>\n",
       "      <td>0</td>\n",
       "      <td>2016</td>\n",
       "      <td>1</td>\n",
       "      <td>13</td>\n",
       "      <td>0</td>\n",
       "      <td>0</td>\n",
       "      <td>0</td>\n",
       "    </tr>\n",
       "    <tr>\n",
       "      <th>2</th>\n",
       "      <td>train_id_2</td>\n",
       "      <td>TU 0214</td>\n",
       "      <td>TUN</td>\n",
       "      <td>IST</td>\n",
       "      <td>ATA</td>\n",
       "      <td>TU 32AIMN</td>\n",
       "      <td>0.0</td>\n",
       "      <td>2016</td>\n",
       "      <td>1</td>\n",
       "      <td>16</td>\n",
       "      <td>...</td>\n",
       "      <td>16</td>\n",
       "      <td>6</td>\n",
       "      <td>45</td>\n",
       "      <td>0</td>\n",
       "      <td>2016</td>\n",
       "      <td>1</td>\n",
       "      <td>16</td>\n",
       "      <td>0</td>\n",
       "      <td>0</td>\n",
       "      <td>0</td>\n",
       "    </tr>\n",
       "    <tr>\n",
       "      <th>3</th>\n",
       "      <td>train_id_3</td>\n",
       "      <td>TU 0480</td>\n",
       "      <td>DJE</td>\n",
       "      <td>NTE</td>\n",
       "      <td>ATA</td>\n",
       "      <td>TU 736IOK</td>\n",
       "      <td>0.0</td>\n",
       "      <td>2016</td>\n",
       "      <td>1</td>\n",
       "      <td>17</td>\n",
       "      <td>...</td>\n",
       "      <td>17</td>\n",
       "      <td>17</td>\n",
       "      <td>0</td>\n",
       "      <td>0</td>\n",
       "      <td>2016</td>\n",
       "      <td>1</td>\n",
       "      <td>17</td>\n",
       "      <td>0</td>\n",
       "      <td>0</td>\n",
       "      <td>0</td>\n",
       "    </tr>\n",
       "    <tr>\n",
       "      <th>4</th>\n",
       "      <td>train_id_4</td>\n",
       "      <td>TU 0338</td>\n",
       "      <td>TUN</td>\n",
       "      <td>ALG</td>\n",
       "      <td>ATA</td>\n",
       "      <td>TU 320IMU</td>\n",
       "      <td>22.0</td>\n",
       "      <td>2016</td>\n",
       "      <td>1</td>\n",
       "      <td>17</td>\n",
       "      <td>...</td>\n",
       "      <td>17</td>\n",
       "      <td>15</td>\n",
       "      <td>50</td>\n",
       "      <td>0</td>\n",
       "      <td>2016</td>\n",
       "      <td>1</td>\n",
       "      <td>17</td>\n",
       "      <td>0</td>\n",
       "      <td>0</td>\n",
       "      <td>0</td>\n",
       "    </tr>\n",
       "    <tr>\n",
       "      <th>...</th>\n",
       "      <td>...</td>\n",
       "      <td>...</td>\n",
       "      <td>...</td>\n",
       "      <td>...</td>\n",
       "      <td>...</td>\n",
       "      <td>...</td>\n",
       "      <td>...</td>\n",
       "      <td>...</td>\n",
       "      <td>...</td>\n",
       "      <td>...</td>\n",
       "      <td>...</td>\n",
       "      <td>...</td>\n",
       "      <td>...</td>\n",
       "      <td>...</td>\n",
       "      <td>...</td>\n",
       "      <td>...</td>\n",
       "      <td>...</td>\n",
       "      <td>...</td>\n",
       "      <td>...</td>\n",
       "      <td>...</td>\n",
       "      <td>...</td>\n",
       "    </tr>\n",
       "    <tr>\n",
       "      <th>107828</th>\n",
       "      <td>train_id_107828</td>\n",
       "      <td>WKL 0000</td>\n",
       "      <td>TUN</td>\n",
       "      <td>TUN</td>\n",
       "      <td>SCH</td>\n",
       "      <td>TU 32AIML</td>\n",
       "      <td>0.0</td>\n",
       "      <td>2018</td>\n",
       "      <td>7</td>\n",
       "      <td>5</td>\n",
       "      <td>...</td>\n",
       "      <td>6</td>\n",
       "      <td>2</td>\n",
       "      <td>0</td>\n",
       "      <td>0</td>\n",
       "      <td>2018</td>\n",
       "      <td>7</td>\n",
       "      <td>5</td>\n",
       "      <td>0</td>\n",
       "      <td>0</td>\n",
       "      <td>0</td>\n",
       "    </tr>\n",
       "    <tr>\n",
       "      <th>107829</th>\n",
       "      <td>train_id_107829</td>\n",
       "      <td>UG 0003</td>\n",
       "      <td>DJE</td>\n",
       "      <td>TUN</td>\n",
       "      <td>SCH</td>\n",
       "      <td>UG AT7AT7</td>\n",
       "      <td>0.0</td>\n",
       "      <td>2018</td>\n",
       "      <td>1</td>\n",
       "      <td>13</td>\n",
       "      <td>...</td>\n",
       "      <td>13</td>\n",
       "      <td>9</td>\n",
       "      <td>0</td>\n",
       "      <td>0</td>\n",
       "      <td>2018</td>\n",
       "      <td>1</td>\n",
       "      <td>13</td>\n",
       "      <td>0</td>\n",
       "      <td>0</td>\n",
       "      <td>0</td>\n",
       "    </tr>\n",
       "    <tr>\n",
       "      <th>107830</th>\n",
       "      <td>train_id_107830</td>\n",
       "      <td>SGT 0000</td>\n",
       "      <td>TUN</td>\n",
       "      <td>TUN</td>\n",
       "      <td>SCH</td>\n",
       "      <td>TU 736IOK</td>\n",
       "      <td>0.0</td>\n",
       "      <td>2018</td>\n",
       "      <td>11</td>\n",
       "      <td>7</td>\n",
       "      <td>...</td>\n",
       "      <td>7</td>\n",
       "      <td>12</td>\n",
       "      <td>50</td>\n",
       "      <td>0</td>\n",
       "      <td>2018</td>\n",
       "      <td>11</td>\n",
       "      <td>7</td>\n",
       "      <td>0</td>\n",
       "      <td>0</td>\n",
       "      <td>0</td>\n",
       "    </tr>\n",
       "    <tr>\n",
       "      <th>107831</th>\n",
       "      <td>train_id_107831</td>\n",
       "      <td>UG 0010</td>\n",
       "      <td>TUN</td>\n",
       "      <td>DJE</td>\n",
       "      <td>ATA</td>\n",
       "      <td>TU CR9ISA</td>\n",
       "      <td>0.0</td>\n",
       "      <td>2018</td>\n",
       "      <td>1</td>\n",
       "      <td>23</td>\n",
       "      <td>...</td>\n",
       "      <td>23</td>\n",
       "      <td>18</td>\n",
       "      <td>45</td>\n",
       "      <td>0</td>\n",
       "      <td>2018</td>\n",
       "      <td>1</td>\n",
       "      <td>23</td>\n",
       "      <td>0</td>\n",
       "      <td>0</td>\n",
       "      <td>0</td>\n",
       "    </tr>\n",
       "    <tr>\n",
       "      <th>107832</th>\n",
       "      <td>train_id_107832</td>\n",
       "      <td>UG 0002</td>\n",
       "      <td>TUN</td>\n",
       "      <td>DJE</td>\n",
       "      <td>SCH</td>\n",
       "      <td>TU CR9ISA</td>\n",
       "      <td>0.0</td>\n",
       "      <td>2018</td>\n",
       "      <td>11</td>\n",
       "      <td>13</td>\n",
       "      <td>...</td>\n",
       "      <td>13</td>\n",
       "      <td>7</td>\n",
       "      <td>5</td>\n",
       "      <td>0</td>\n",
       "      <td>2018</td>\n",
       "      <td>11</td>\n",
       "      <td>13</td>\n",
       "      <td>0</td>\n",
       "      <td>0</td>\n",
       "      <td>0</td>\n",
       "    </tr>\n",
       "  </tbody>\n",
       "</table>\n",
       "<p>107833 rows × 25 columns</p>\n",
       "</div>"
      ],
      "text/plain": [
       "                     ID      FLTID DEPSTN ARRSTN STATUS         AC  target  \\\n",
       "0            train_id_0   TU 0712     CMN    TUN    ATA  TU 32AIMN   260.0   \n",
       "1            train_id_1   TU 0757     MXP    TUN    ATA  TU 31BIMO    20.0   \n",
       "2            train_id_2   TU 0214     TUN    IST    ATA  TU 32AIMN     0.0   \n",
       "3            train_id_3   TU 0480     DJE    NTE    ATA  TU 736IOK     0.0   \n",
       "4            train_id_4   TU 0338     TUN    ALG    ATA  TU 320IMU    22.0   \n",
       "...                 ...        ...    ...    ...    ...        ...     ...   \n",
       "107828  train_id_107828  WKL 0000     TUN    TUN    SCH  TU 32AIML     0.0   \n",
       "107829  train_id_107829   UG 0003     DJE    TUN    SCH  UG AT7AT7     0.0   \n",
       "107830  train_id_107830  SGT 0000     TUN    TUN    SCH  TU 736IOK     0.0   \n",
       "107831  train_id_107831   UG 0010     TUN    DJE    ATA  TU CR9ISA     0.0   \n",
       "107832  train_id_107832   UG 0002     TUN    DJE    SCH  TU CR9ISA     0.0   \n",
       "\n",
       "        STD_year  STD_month  STD_day  ...  STA_day  STA_hour  STA_minute  \\\n",
       "0           2016          1        3  ...        3        12          55   \n",
       "1           2016          1       13  ...       13        16          55   \n",
       "2           2016          1       16  ...       16         6          45   \n",
       "3           2016          1       17  ...       17        17           0   \n",
       "4           2016          1       17  ...       17        15          50   \n",
       "...          ...        ...      ...  ...      ...       ...         ...   \n",
       "107828      2018          7        5  ...        6         2           0   \n",
       "107829      2018          1       13  ...       13         9           0   \n",
       "107830      2018         11        7  ...        7        12          50   \n",
       "107831      2018          1       23  ...       23        18          45   \n",
       "107832      2018         11       13  ...       13         7           5   \n",
       "\n",
       "        STA_second  DATOP_year  DATOP_month  DATOP_day  DATOP_hour  \\\n",
       "0                0        2016            1          3           0   \n",
       "1                0        2016            1         13           0   \n",
       "2                0        2016            1         16           0   \n",
       "3                0        2016            1         17           0   \n",
       "4                0        2016            1         17           0   \n",
       "...            ...         ...          ...        ...         ...   \n",
       "107828           0        2018            7          5           0   \n",
       "107829           0        2018            1         13           0   \n",
       "107830           0        2018           11          7           0   \n",
       "107831           0        2018            1         23           0   \n",
       "107832           0        2018           11         13           0   \n",
       "\n",
       "        DATOP_minute  DATOP_second  \n",
       "0                  0             0  \n",
       "1                  0             0  \n",
       "2                  0             0  \n",
       "3                  0             0  \n",
       "4                  0             0  \n",
       "...              ...           ...  \n",
       "107828             0             0  \n",
       "107829             0             0  \n",
       "107830             0             0  \n",
       "107831             0             0  \n",
       "107832             0             0  \n",
       "\n",
       "[107833 rows x 25 columns]"
      ]
     },
     "execution_count": 16,
     "metadata": {},
     "output_type": "execute_result"
    }
   ],
   "source": [
    "train"
   ]
  },
  {
   "cell_type": "code",
   "execution_count": 17,
   "id": "union-filing",
   "metadata": {},
   "outputs": [],
   "source": [
    "test['DATOP']= pd.to_datetime(test['DATOP'], format='%Y-%m-%d')"
   ]
  },
  {
   "cell_type": "code",
   "execution_count": 18,
   "id": "variable-population",
   "metadata": {},
   "outputs": [],
   "source": [
    "test['STD']= pd.to_datetime(test['STD'], format='%Y-%m-%d %H:%M:%S')"
   ]
  },
  {
   "cell_type": "code",
   "execution_count": 19,
   "id": "commercial-nudist",
   "metadata": {},
   "outputs": [],
   "source": [
    "test['STA']= pd.to_datetime(test['STA'], format='%Y-%m-%d %H.%M.%S')"
   ]
  },
  {
   "cell_type": "code",
   "execution_count": 20,
   "id": "accomplished-announcement",
   "metadata": {},
   "outputs": [],
   "source": [
    "date_column = ['STD','STA','DATOP']\n",
    "def extract_date(test,cols,):\n",
    "    for x in cols:\n",
    "        test[x+'_year']= test[x].dt.year\n",
    "        test[x+'_month']= test[x].dt.month\n",
    "        test[x+'_day']= test[x].dt.day\n",
    "        test[x+'_hour']= test[x].dt.hour\n",
    "        test[x+'_minute']= test[x].dt.minute\n",
    "        test[x+'_second']= test[x].dt.second\n",
    "    test.drop(columns=date_column, axis=1, inplace=True)\n",
    "extract_date(test,date_column) "
   ]
  },
  {
   "cell_type": "code",
   "execution_count": 21,
   "id": "grave-athens",
   "metadata": {},
   "outputs": [
    {
     "data": {
      "text/html": [
       "<div>\n",
       "<style scoped>\n",
       "    .dataframe tbody tr th:only-of-type {\n",
       "        vertical-align: middle;\n",
       "    }\n",
       "\n",
       "    .dataframe tbody tr th {\n",
       "        vertical-align: top;\n",
       "    }\n",
       "\n",
       "    .dataframe thead th {\n",
       "        text-align: right;\n",
       "    }\n",
       "</style>\n",
       "<table border=\"1\" class=\"dataframe\">\n",
       "  <thead>\n",
       "    <tr style=\"text-align: right;\">\n",
       "      <th></th>\n",
       "      <th>ID</th>\n",
       "      <th>FLTID</th>\n",
       "      <th>DEPSTN</th>\n",
       "      <th>ARRSTN</th>\n",
       "      <th>STATUS</th>\n",
       "      <th>AC</th>\n",
       "      <th>STD_year</th>\n",
       "      <th>STD_month</th>\n",
       "      <th>STD_day</th>\n",
       "      <th>STD_hour</th>\n",
       "      <th>...</th>\n",
       "      <th>STA_day</th>\n",
       "      <th>STA_hour</th>\n",
       "      <th>STA_minute</th>\n",
       "      <th>STA_second</th>\n",
       "      <th>DATOP_year</th>\n",
       "      <th>DATOP_month</th>\n",
       "      <th>DATOP_day</th>\n",
       "      <th>DATOP_hour</th>\n",
       "      <th>DATOP_minute</th>\n",
       "      <th>DATOP_second</th>\n",
       "    </tr>\n",
       "  </thead>\n",
       "  <tbody>\n",
       "    <tr>\n",
       "      <th>0</th>\n",
       "      <td>test_id_0</td>\n",
       "      <td>TU 0700</td>\n",
       "      <td>DJE</td>\n",
       "      <td>TUN</td>\n",
       "      <td>ATA</td>\n",
       "      <td>TU 32AIMF</td>\n",
       "      <td>2016</td>\n",
       "      <td>5</td>\n",
       "      <td>4</td>\n",
       "      <td>6</td>\n",
       "      <td>...</td>\n",
       "      <td>4</td>\n",
       "      <td>7</td>\n",
       "      <td>30</td>\n",
       "      <td>0</td>\n",
       "      <td>2016</td>\n",
       "      <td>5</td>\n",
       "      <td>4</td>\n",
       "      <td>0</td>\n",
       "      <td>0</td>\n",
       "      <td>0</td>\n",
       "    </tr>\n",
       "    <tr>\n",
       "      <th>1</th>\n",
       "      <td>test_id_1</td>\n",
       "      <td>TU 0395</td>\n",
       "      <td>TUN</td>\n",
       "      <td>BKO</td>\n",
       "      <td>ATA</td>\n",
       "      <td>TU 320IMW</td>\n",
       "      <td>2016</td>\n",
       "      <td>5</td>\n",
       "      <td>5</td>\n",
       "      <td>15</td>\n",
       "      <td>...</td>\n",
       "      <td>5</td>\n",
       "      <td>20</td>\n",
       "      <td>5</td>\n",
       "      <td>0</td>\n",
       "      <td>2016</td>\n",
       "      <td>5</td>\n",
       "      <td>5</td>\n",
       "      <td>0</td>\n",
       "      <td>0</td>\n",
       "      <td>0</td>\n",
       "    </tr>\n",
       "    <tr>\n",
       "      <th>2</th>\n",
       "      <td>test_id_2</td>\n",
       "      <td>TU 0745</td>\n",
       "      <td>FRA</td>\n",
       "      <td>TUN</td>\n",
       "      <td>ATA</td>\n",
       "      <td>TU 32AIMC</td>\n",
       "      <td>2016</td>\n",
       "      <td>5</td>\n",
       "      <td>6</td>\n",
       "      <td>10</td>\n",
       "      <td>...</td>\n",
       "      <td>6</td>\n",
       "      <td>12</td>\n",
       "      <td>25</td>\n",
       "      <td>0</td>\n",
       "      <td>2016</td>\n",
       "      <td>5</td>\n",
       "      <td>6</td>\n",
       "      <td>0</td>\n",
       "      <td>0</td>\n",
       "      <td>0</td>\n",
       "    </tr>\n",
       "    <tr>\n",
       "      <th>3</th>\n",
       "      <td>test_id_3</td>\n",
       "      <td>TU 0848</td>\n",
       "      <td>BEY</td>\n",
       "      <td>TUN</td>\n",
       "      <td>ATA</td>\n",
       "      <td>TU 31BIMO</td>\n",
       "      <td>2016</td>\n",
       "      <td>5</td>\n",
       "      <td>11</td>\n",
       "      <td>9</td>\n",
       "      <td>...</td>\n",
       "      <td>11</td>\n",
       "      <td>13</td>\n",
       "      <td>10</td>\n",
       "      <td>0</td>\n",
       "      <td>2016</td>\n",
       "      <td>5</td>\n",
       "      <td>11</td>\n",
       "      <td>0</td>\n",
       "      <td>0</td>\n",
       "      <td>0</td>\n",
       "    </tr>\n",
       "    <tr>\n",
       "      <th>4</th>\n",
       "      <td>test_id_4</td>\n",
       "      <td>TU 0635</td>\n",
       "      <td>ORY</td>\n",
       "      <td>MIR</td>\n",
       "      <td>ATA</td>\n",
       "      <td>TU 736IOQ</td>\n",
       "      <td>2016</td>\n",
       "      <td>5</td>\n",
       "      <td>11</td>\n",
       "      <td>9</td>\n",
       "      <td>...</td>\n",
       "      <td>11</td>\n",
       "      <td>12</td>\n",
       "      <td>35</td>\n",
       "      <td>0</td>\n",
       "      <td>2016</td>\n",
       "      <td>5</td>\n",
       "      <td>11</td>\n",
       "      <td>0</td>\n",
       "      <td>0</td>\n",
       "      <td>0</td>\n",
       "    </tr>\n",
       "    <tr>\n",
       "      <th>...</th>\n",
       "      <td>...</td>\n",
       "      <td>...</td>\n",
       "      <td>...</td>\n",
       "      <td>...</td>\n",
       "      <td>...</td>\n",
       "      <td>...</td>\n",
       "      <td>...</td>\n",
       "      <td>...</td>\n",
       "      <td>...</td>\n",
       "      <td>...</td>\n",
       "      <td>...</td>\n",
       "      <td>...</td>\n",
       "      <td>...</td>\n",
       "      <td>...</td>\n",
       "      <td>...</td>\n",
       "      <td>...</td>\n",
       "      <td>...</td>\n",
       "      <td>...</td>\n",
       "      <td>...</td>\n",
       "      <td>...</td>\n",
       "      <td>...</td>\n",
       "    </tr>\n",
       "    <tr>\n",
       "      <th>9328</th>\n",
       "      <td>test_id_9328</td>\n",
       "      <td>TU 0998</td>\n",
       "      <td>TUN</td>\n",
       "      <td>NCE</td>\n",
       "      <td>ATA</td>\n",
       "      <td>TU 320IMV</td>\n",
       "      <td>2018</td>\n",
       "      <td>9</td>\n",
       "      <td>12</td>\n",
       "      <td>14</td>\n",
       "      <td>...</td>\n",
       "      <td>12</td>\n",
       "      <td>15</td>\n",
       "      <td>45</td>\n",
       "      <td>0</td>\n",
       "      <td>2018</td>\n",
       "      <td>9</td>\n",
       "      <td>12</td>\n",
       "      <td>0</td>\n",
       "      <td>0</td>\n",
       "      <td>0</td>\n",
       "    </tr>\n",
       "    <tr>\n",
       "      <th>9329</th>\n",
       "      <td>test_id_9329</td>\n",
       "      <td>WKL 0000</td>\n",
       "      <td>TUN</td>\n",
       "      <td>TUN</td>\n",
       "      <td>SCH</td>\n",
       "      <td>TU 32AIMG</td>\n",
       "      <td>2018</td>\n",
       "      <td>9</td>\n",
       "      <td>27</td>\n",
       "      <td>22</td>\n",
       "      <td>...</td>\n",
       "      <td>28</td>\n",
       "      <td>1</td>\n",
       "      <td>0</td>\n",
       "      <td>0</td>\n",
       "      <td>2018</td>\n",
       "      <td>9</td>\n",
       "      <td>27</td>\n",
       "      <td>0</td>\n",
       "      <td>0</td>\n",
       "      <td>0</td>\n",
       "    </tr>\n",
       "    <tr>\n",
       "      <th>9330</th>\n",
       "      <td>test_id_9330</td>\n",
       "      <td>UG 1601</td>\n",
       "      <td>SJJ</td>\n",
       "      <td>TUN</td>\n",
       "      <td>SCH</td>\n",
       "      <td>TU CR9ISA</td>\n",
       "      <td>2018</td>\n",
       "      <td>9</td>\n",
       "      <td>3</td>\n",
       "      <td>9</td>\n",
       "      <td>...</td>\n",
       "      <td>3</td>\n",
       "      <td>11</td>\n",
       "      <td>10</td>\n",
       "      <td>0</td>\n",
       "      <td>2018</td>\n",
       "      <td>9</td>\n",
       "      <td>3</td>\n",
       "      <td>0</td>\n",
       "      <td>0</td>\n",
       "      <td>0</td>\n",
       "    </tr>\n",
       "    <tr>\n",
       "      <th>9331</th>\n",
       "      <td>test_id_9331</td>\n",
       "      <td>UG 0008</td>\n",
       "      <td>TUN</td>\n",
       "      <td>DJE</td>\n",
       "      <td>SCH</td>\n",
       "      <td>UG AT7LBD</td>\n",
       "      <td>2018</td>\n",
       "      <td>9</td>\n",
       "      <td>15</td>\n",
       "      <td>14</td>\n",
       "      <td>...</td>\n",
       "      <td>15</td>\n",
       "      <td>15</td>\n",
       "      <td>30</td>\n",
       "      <td>0</td>\n",
       "      <td>2018</td>\n",
       "      <td>9</td>\n",
       "      <td>15</td>\n",
       "      <td>0</td>\n",
       "      <td>0</td>\n",
       "      <td>0</td>\n",
       "    </tr>\n",
       "    <tr>\n",
       "      <th>9332</th>\n",
       "      <td>test_id_9332</td>\n",
       "      <td>UG 0009</td>\n",
       "      <td>DJE</td>\n",
       "      <td>TUN</td>\n",
       "      <td>SCH</td>\n",
       "      <td>UG AT7LBD</td>\n",
       "      <td>2018</td>\n",
       "      <td>9</td>\n",
       "      <td>19</td>\n",
       "      <td>16</td>\n",
       "      <td>...</td>\n",
       "      <td>19</td>\n",
       "      <td>17</td>\n",
       "      <td>15</td>\n",
       "      <td>0</td>\n",
       "      <td>2018</td>\n",
       "      <td>9</td>\n",
       "      <td>19</td>\n",
       "      <td>0</td>\n",
       "      <td>0</td>\n",
       "      <td>0</td>\n",
       "    </tr>\n",
       "  </tbody>\n",
       "</table>\n",
       "<p>9333 rows × 24 columns</p>\n",
       "</div>"
      ],
      "text/plain": [
       "                ID      FLTID DEPSTN ARRSTN STATUS         AC  STD_year  \\\n",
       "0        test_id_0   TU 0700     DJE    TUN    ATA  TU 32AIMF      2016   \n",
       "1        test_id_1   TU 0395     TUN    BKO    ATA  TU 320IMW      2016   \n",
       "2        test_id_2   TU 0745     FRA    TUN    ATA  TU 32AIMC      2016   \n",
       "3        test_id_3   TU 0848     BEY    TUN    ATA  TU 31BIMO      2016   \n",
       "4        test_id_4   TU 0635     ORY    MIR    ATA  TU 736IOQ      2016   \n",
       "...            ...        ...    ...    ...    ...        ...       ...   \n",
       "9328  test_id_9328   TU 0998     TUN    NCE    ATA  TU 320IMV      2018   \n",
       "9329  test_id_9329  WKL 0000     TUN    TUN    SCH  TU 32AIMG      2018   \n",
       "9330  test_id_9330   UG 1601     SJJ    TUN    SCH  TU CR9ISA      2018   \n",
       "9331  test_id_9331   UG 0008     TUN    DJE    SCH  UG AT7LBD      2018   \n",
       "9332  test_id_9332   UG 0009     DJE    TUN    SCH  UG AT7LBD      2018   \n",
       "\n",
       "      STD_month  STD_day  STD_hour  ...  STA_day  STA_hour  STA_minute  \\\n",
       "0             5        4         6  ...        4         7          30   \n",
       "1             5        5        15  ...        5        20           5   \n",
       "2             5        6        10  ...        6        12          25   \n",
       "3             5       11         9  ...       11        13          10   \n",
       "4             5       11         9  ...       11        12          35   \n",
       "...         ...      ...       ...  ...      ...       ...         ...   \n",
       "9328          9       12        14  ...       12        15          45   \n",
       "9329          9       27        22  ...       28         1           0   \n",
       "9330          9        3         9  ...        3        11          10   \n",
       "9331          9       15        14  ...       15        15          30   \n",
       "9332          9       19        16  ...       19        17          15   \n",
       "\n",
       "      STA_second  DATOP_year  DATOP_month  DATOP_day  DATOP_hour  \\\n",
       "0              0        2016            5          4           0   \n",
       "1              0        2016            5          5           0   \n",
       "2              0        2016            5          6           0   \n",
       "3              0        2016            5         11           0   \n",
       "4              0        2016            5         11           0   \n",
       "...          ...         ...          ...        ...         ...   \n",
       "9328           0        2018            9         12           0   \n",
       "9329           0        2018            9         27           0   \n",
       "9330           0        2018            9          3           0   \n",
       "9331           0        2018            9         15           0   \n",
       "9332           0        2018            9         19           0   \n",
       "\n",
       "      DATOP_minute  DATOP_second  \n",
       "0                0             0  \n",
       "1                0             0  \n",
       "2                0             0  \n",
       "3                0             0  \n",
       "4                0             0  \n",
       "...            ...           ...  \n",
       "9328             0             0  \n",
       "9329             0             0  \n",
       "9330             0             0  \n",
       "9331             0             0  \n",
       "9332             0             0  \n",
       "\n",
       "[9333 rows x 24 columns]"
      ]
     },
     "execution_count": 21,
     "metadata": {},
     "output_type": "execute_result"
    }
   ],
   "source": [
    "test"
   ]
  },
  {
   "cell_type": "code",
   "execution_count": 22,
   "id": "italic-coverage",
   "metadata": {},
   "outputs": [
    {
     "name": "stdout",
     "output_type": "stream",
     "text": [
      "<class 'pandas.core.frame.DataFrame'>\n",
      "RangeIndex: 107833 entries, 0 to 107832\n",
      "Data columns (total 25 columns):\n",
      " #   Column        Non-Null Count   Dtype  \n",
      "---  ------        --------------   -----  \n",
      " 0   ID            107833 non-null  object \n",
      " 1   FLTID         107833 non-null  object \n",
      " 2   DEPSTN        107833 non-null  object \n",
      " 3   ARRSTN        107833 non-null  object \n",
      " 4   STATUS        107833 non-null  object \n",
      " 5   AC            107833 non-null  object \n",
      " 6   target        107833 non-null  float64\n",
      " 7   STD_year      107833 non-null  int64  \n",
      " 8   STD_month     107833 non-null  int64  \n",
      " 9   STD_day       107833 non-null  int64  \n",
      " 10  STD_hour      107833 non-null  int64  \n",
      " 11  STD_minute    107833 non-null  int64  \n",
      " 12  STD_second    107833 non-null  int64  \n",
      " 13  STA_year      107833 non-null  int64  \n",
      " 14  STA_month     107833 non-null  int64  \n",
      " 15  STA_day       107833 non-null  int64  \n",
      " 16  STA_hour      107833 non-null  int64  \n",
      " 17  STA_minute    107833 non-null  int64  \n",
      " 18  STA_second    107833 non-null  int64  \n",
      " 19  DATOP_year    107833 non-null  int64  \n",
      " 20  DATOP_month   107833 non-null  int64  \n",
      " 21  DATOP_day     107833 non-null  int64  \n",
      " 22  DATOP_hour    107833 non-null  int64  \n",
      " 23  DATOP_minute  107833 non-null  int64  \n",
      " 24  DATOP_second  107833 non-null  int64  \n",
      "dtypes: float64(1), int64(18), object(6)\n",
      "memory usage: 20.6+ MB\n"
     ]
    }
   ],
   "source": [
    "train.info()"
   ]
  },
  {
   "cell_type": "code",
   "execution_count": 23,
   "id": "sorted-jonathan",
   "metadata": {},
   "outputs": [
    {
     "name": "stdout",
     "output_type": "stream",
     "text": [
      "<class 'pandas.core.frame.DataFrame'>\n",
      "RangeIndex: 9333 entries, 0 to 9332\n",
      "Data columns (total 24 columns):\n",
      " #   Column        Non-Null Count  Dtype \n",
      "---  ------        --------------  ----- \n",
      " 0   ID            9333 non-null   object\n",
      " 1   FLTID         9333 non-null   object\n",
      " 2   DEPSTN        9333 non-null   object\n",
      " 3   ARRSTN        9333 non-null   object\n",
      " 4   STATUS        9333 non-null   object\n",
      " 5   AC            9333 non-null   object\n",
      " 6   STD_year      9333 non-null   int64 \n",
      " 7   STD_month     9333 non-null   int64 \n",
      " 8   STD_day       9333 non-null   int64 \n",
      " 9   STD_hour      9333 non-null   int64 \n",
      " 10  STD_minute    9333 non-null   int64 \n",
      " 11  STD_second    9333 non-null   int64 \n",
      " 12  STA_year      9333 non-null   int64 \n",
      " 13  STA_month     9333 non-null   int64 \n",
      " 14  STA_day       9333 non-null   int64 \n",
      " 15  STA_hour      9333 non-null   int64 \n",
      " 16  STA_minute    9333 non-null   int64 \n",
      " 17  STA_second    9333 non-null   int64 \n",
      " 18  DATOP_year    9333 non-null   int64 \n",
      " 19  DATOP_month   9333 non-null   int64 \n",
      " 20  DATOP_day     9333 non-null   int64 \n",
      " 21  DATOP_hour    9333 non-null   int64 \n",
      " 22  DATOP_minute  9333 non-null   int64 \n",
      " 23  DATOP_second  9333 non-null   int64 \n",
      "dtypes: int64(18), object(6)\n",
      "memory usage: 1.7+ MB\n"
     ]
    }
   ],
   "source": [
    "test.info()"
   ]
  },
  {
   "cell_type": "code",
   "execution_count": 24,
   "id": "numerous-genre",
   "metadata": {},
   "outputs": [
    {
     "data": {
      "text/plain": [
       "WKL 0000     3105\n",
       "TU 0613      1284\n",
       "TU 0397      1184\n",
       "AOG 0000     1103\n",
       "TU 0634      1075\n",
       "             ... \n",
       "TU 3237         1\n",
       "TU 3888         1\n",
       "UG 0212         1\n",
       "TU 3445         1\n",
       "TU 3804         1\n",
       "Name: FLTID, Length: 1861, dtype: int64"
      ]
     },
     "execution_count": 24,
     "metadata": {},
     "output_type": "execute_result"
    }
   ],
   "source": [
    "train['FLTID'].value_counts()"
   ]
  },
  {
   "cell_type": "code",
   "execution_count": 25,
   "id": "fifteen-regular",
   "metadata": {},
   "outputs": [],
   "source": [
    "train.drop(['ID','DATOP_hour','DATOP_minute','DATOP_second'],axis=1, inplace=True)"
   ]
  },
  {
   "cell_type": "code",
   "execution_count": 26,
   "id": "quality-influence",
   "metadata": {},
   "outputs": [],
   "source": [
    "test.drop(['ID','DATOP_hour','DATOP_minute','DATOP_second'],axis=1, inplace=True)"
   ]
  },
  {
   "cell_type": "code",
   "execution_count": 27,
   "id": "widespread-operation",
   "metadata": {},
   "outputs": [
    {
     "name": "stdout",
     "output_type": "stream",
     "text": [
      "21\n",
      "20\n"
     ]
    }
   ],
   "source": [
    "print(len(train.columns))\n",
    "print(len(test.columns))"
   ]
  },
  {
   "cell_type": "code",
   "execution_count": 28,
   "id": "modified-delay",
   "metadata": {},
   "outputs": [],
   "source": [
    "#Split data into features and target\n",
    "X = train.drop(['target'], axis='columns')\n",
    "y = train['target']"
   ]
  },
  {
   "cell_type": "markdown",
   "id": "greenhouse-picnic",
   "metadata": {},
   "source": [
    "# FEATURE ENGINEERING\n",
    "CONVERTING CATEGORICAL VARIABLES TO NUMERICAL VARIABLES"
   ]
  },
  {
   "cell_type": "code",
   "execution_count": 29,
   "id": "understanding-monster",
   "metadata": {},
   "outputs": [],
   "source": [
    "#using get dummies function from pandas\n",
    "X = pd.get_dummies(X)"
   ]
  },
  {
   "cell_type": "code",
   "execution_count": 30,
   "id": "brutal-canada",
   "metadata": {},
   "outputs": [
    {
     "data": {
      "text/html": [
       "<div>\n",
       "<style scoped>\n",
       "    .dataframe tbody tr th:only-of-type {\n",
       "        vertical-align: middle;\n",
       "    }\n",
       "\n",
       "    .dataframe tbody tr th {\n",
       "        vertical-align: top;\n",
       "    }\n",
       "\n",
       "    .dataframe thead th {\n",
       "        text-align: right;\n",
       "    }\n",
       "</style>\n",
       "<table border=\"1\" class=\"dataframe\">\n",
       "  <thead>\n",
       "    <tr style=\"text-align: right;\">\n",
       "      <th></th>\n",
       "      <th>STD_year</th>\n",
       "      <th>STD_month</th>\n",
       "      <th>STD_day</th>\n",
       "      <th>STD_hour</th>\n",
       "      <th>STD_minute</th>\n",
       "      <th>STD_second</th>\n",
       "      <th>STA_year</th>\n",
       "      <th>STA_month</th>\n",
       "      <th>STA_day</th>\n",
       "      <th>STA_hour</th>\n",
       "      <th>...</th>\n",
       "      <th>AC_TU CR9ISA</th>\n",
       "      <th>AC_TU CR9XXX</th>\n",
       "      <th>AC_UG AT7AT7</th>\n",
       "      <th>AC_UG AT7LBD</th>\n",
       "      <th>AC_UG AT7LBE</th>\n",
       "      <th>AC_UG CR9CR9</th>\n",
       "      <th>AC_UG CR9ISA</th>\n",
       "      <th>AC_UG CR9XXX</th>\n",
       "      <th>AC_UJ 320TCF</th>\n",
       "      <th>AC_X9 320VEB</th>\n",
       "    </tr>\n",
       "  </thead>\n",
       "  <tbody>\n",
       "    <tr>\n",
       "      <th>0</th>\n",
       "      <td>2016</td>\n",
       "      <td>1</td>\n",
       "      <td>3</td>\n",
       "      <td>10</td>\n",
       "      <td>30</td>\n",
       "      <td>0</td>\n",
       "      <td>2016</td>\n",
       "      <td>1</td>\n",
       "      <td>3</td>\n",
       "      <td>12</td>\n",
       "      <td>...</td>\n",
       "      <td>0</td>\n",
       "      <td>0</td>\n",
       "      <td>0</td>\n",
       "      <td>0</td>\n",
       "      <td>0</td>\n",
       "      <td>0</td>\n",
       "      <td>0</td>\n",
       "      <td>0</td>\n",
       "      <td>0</td>\n",
       "      <td>0</td>\n",
       "    </tr>\n",
       "    <tr>\n",
       "      <th>1</th>\n",
       "      <td>2016</td>\n",
       "      <td>1</td>\n",
       "      <td>13</td>\n",
       "      <td>15</td>\n",
       "      <td>5</td>\n",
       "      <td>0</td>\n",
       "      <td>2016</td>\n",
       "      <td>1</td>\n",
       "      <td>13</td>\n",
       "      <td>16</td>\n",
       "      <td>...</td>\n",
       "      <td>0</td>\n",
       "      <td>0</td>\n",
       "      <td>0</td>\n",
       "      <td>0</td>\n",
       "      <td>0</td>\n",
       "      <td>0</td>\n",
       "      <td>0</td>\n",
       "      <td>0</td>\n",
       "      <td>0</td>\n",
       "      <td>0</td>\n",
       "    </tr>\n",
       "    <tr>\n",
       "      <th>2</th>\n",
       "      <td>2016</td>\n",
       "      <td>1</td>\n",
       "      <td>16</td>\n",
       "      <td>4</td>\n",
       "      <td>10</td>\n",
       "      <td>0</td>\n",
       "      <td>2016</td>\n",
       "      <td>1</td>\n",
       "      <td>16</td>\n",
       "      <td>6</td>\n",
       "      <td>...</td>\n",
       "      <td>0</td>\n",
       "      <td>0</td>\n",
       "      <td>0</td>\n",
       "      <td>0</td>\n",
       "      <td>0</td>\n",
       "      <td>0</td>\n",
       "      <td>0</td>\n",
       "      <td>0</td>\n",
       "      <td>0</td>\n",
       "      <td>0</td>\n",
       "    </tr>\n",
       "    <tr>\n",
       "      <th>3</th>\n",
       "      <td>2016</td>\n",
       "      <td>1</td>\n",
       "      <td>17</td>\n",
       "      <td>14</td>\n",
       "      <td>10</td>\n",
       "      <td>0</td>\n",
       "      <td>2016</td>\n",
       "      <td>1</td>\n",
       "      <td>17</td>\n",
       "      <td>17</td>\n",
       "      <td>...</td>\n",
       "      <td>0</td>\n",
       "      <td>0</td>\n",
       "      <td>0</td>\n",
       "      <td>0</td>\n",
       "      <td>0</td>\n",
       "      <td>0</td>\n",
       "      <td>0</td>\n",
       "      <td>0</td>\n",
       "      <td>0</td>\n",
       "      <td>0</td>\n",
       "    </tr>\n",
       "    <tr>\n",
       "      <th>4</th>\n",
       "      <td>2016</td>\n",
       "      <td>1</td>\n",
       "      <td>17</td>\n",
       "      <td>14</td>\n",
       "      <td>30</td>\n",
       "      <td>0</td>\n",
       "      <td>2016</td>\n",
       "      <td>1</td>\n",
       "      <td>17</td>\n",
       "      <td>15</td>\n",
       "      <td>...</td>\n",
       "      <td>0</td>\n",
       "      <td>0</td>\n",
       "      <td>0</td>\n",
       "      <td>0</td>\n",
       "      <td>0</td>\n",
       "      <td>0</td>\n",
       "      <td>0</td>\n",
       "      <td>0</td>\n",
       "      <td>0</td>\n",
       "      <td>0</td>\n",
       "    </tr>\n",
       "  </tbody>\n",
       "</table>\n",
       "<p>5 rows × 2209 columns</p>\n",
       "</div>"
      ],
      "text/plain": [
       "   STD_year  STD_month  STD_day  STD_hour  STD_minute  STD_second  STA_year  \\\n",
       "0      2016          1        3        10          30           0      2016   \n",
       "1      2016          1       13        15           5           0      2016   \n",
       "2      2016          1       16         4          10           0      2016   \n",
       "3      2016          1       17        14          10           0      2016   \n",
       "4      2016          1       17        14          30           0      2016   \n",
       "\n",
       "   STA_month  STA_day  STA_hour  ...  AC_TU CR9ISA  AC_TU CR9XXX  \\\n",
       "0          1        3        12  ...             0             0   \n",
       "1          1       13        16  ...             0             0   \n",
       "2          1       16         6  ...             0             0   \n",
       "3          1       17        17  ...             0             0   \n",
       "4          1       17        15  ...             0             0   \n",
       "\n",
       "   AC_UG AT7AT7  AC_UG AT7LBD  AC_UG AT7LBE  AC_UG CR9CR9  AC_UG CR9ISA  \\\n",
       "0             0             0             0             0             0   \n",
       "1             0             0             0             0             0   \n",
       "2             0             0             0             0             0   \n",
       "3             0             0             0             0             0   \n",
       "4             0             0             0             0             0   \n",
       "\n",
       "   AC_UG CR9XXX  AC_UJ 320TCF  AC_X9 320VEB  \n",
       "0             0             0             0  \n",
       "1             0             0             0  \n",
       "2             0             0             0  \n",
       "3             0             0             0  \n",
       "4             0             0             0  \n",
       "\n",
       "[5 rows x 2209 columns]"
      ]
     },
     "execution_count": 30,
     "metadata": {},
     "output_type": "execute_result"
    }
   ],
   "source": [
    "X.head()"
   ]
  },
  {
   "cell_type": "code",
   "execution_count": 31,
   "id": "meaning-column",
   "metadata": {},
   "outputs": [],
   "source": [
    "#using get dummies function from pandas\n",
    "Y= pd.get_dummies(test)"
   ]
  },
  {
   "cell_type": "code",
   "execution_count": 32,
   "id": "sitting-perry",
   "metadata": {},
   "outputs": [
    {
     "data": {
      "text/html": [
       "<div>\n",
       "<style scoped>\n",
       "    .dataframe tbody tr th:only-of-type {\n",
       "        vertical-align: middle;\n",
       "    }\n",
       "\n",
       "    .dataframe tbody tr th {\n",
       "        vertical-align: top;\n",
       "    }\n",
       "\n",
       "    .dataframe thead th {\n",
       "        text-align: right;\n",
       "    }\n",
       "</style>\n",
       "<table border=\"1\" class=\"dataframe\">\n",
       "  <thead>\n",
       "    <tr style=\"text-align: right;\">\n",
       "      <th></th>\n",
       "      <th>STD_year</th>\n",
       "      <th>STD_month</th>\n",
       "      <th>STD_day</th>\n",
       "      <th>STD_hour</th>\n",
       "      <th>STD_minute</th>\n",
       "      <th>STD_second</th>\n",
       "      <th>STA_year</th>\n",
       "      <th>STA_month</th>\n",
       "      <th>STA_day</th>\n",
       "      <th>STA_hour</th>\n",
       "      <th>...</th>\n",
       "      <th>AC_TU 736IOM</th>\n",
       "      <th>AC_TU 736ION</th>\n",
       "      <th>AC_TU 736IOP</th>\n",
       "      <th>AC_TU 736IOQ</th>\n",
       "      <th>AC_TU 736IOR</th>\n",
       "      <th>AC_TU CR9ISA</th>\n",
       "      <th>AC_UG AT7AT7</th>\n",
       "      <th>AC_UG AT7LBD</th>\n",
       "      <th>AC_UG AT7LBE</th>\n",
       "      <th>AC_UG AT7XXX</th>\n",
       "    </tr>\n",
       "  </thead>\n",
       "  <tbody>\n",
       "    <tr>\n",
       "      <th>0</th>\n",
       "      <td>2016</td>\n",
       "      <td>5</td>\n",
       "      <td>4</td>\n",
       "      <td>6</td>\n",
       "      <td>40</td>\n",
       "      <td>0</td>\n",
       "      <td>2016</td>\n",
       "      <td>5</td>\n",
       "      <td>4</td>\n",
       "      <td>7</td>\n",
       "      <td>...</td>\n",
       "      <td>0</td>\n",
       "      <td>0</td>\n",
       "      <td>0</td>\n",
       "      <td>0</td>\n",
       "      <td>0</td>\n",
       "      <td>0</td>\n",
       "      <td>0</td>\n",
       "      <td>0</td>\n",
       "      <td>0</td>\n",
       "      <td>0</td>\n",
       "    </tr>\n",
       "    <tr>\n",
       "      <th>1</th>\n",
       "      <td>2016</td>\n",
       "      <td>5</td>\n",
       "      <td>5</td>\n",
       "      <td>15</td>\n",
       "      <td>20</td>\n",
       "      <td>0</td>\n",
       "      <td>2016</td>\n",
       "      <td>5</td>\n",
       "      <td>5</td>\n",
       "      <td>20</td>\n",
       "      <td>...</td>\n",
       "      <td>0</td>\n",
       "      <td>0</td>\n",
       "      <td>0</td>\n",
       "      <td>0</td>\n",
       "      <td>0</td>\n",
       "      <td>0</td>\n",
       "      <td>0</td>\n",
       "      <td>0</td>\n",
       "      <td>0</td>\n",
       "      <td>0</td>\n",
       "    </tr>\n",
       "    <tr>\n",
       "      <th>2</th>\n",
       "      <td>2016</td>\n",
       "      <td>5</td>\n",
       "      <td>6</td>\n",
       "      <td>10</td>\n",
       "      <td>0</td>\n",
       "      <td>0</td>\n",
       "      <td>2016</td>\n",
       "      <td>5</td>\n",
       "      <td>6</td>\n",
       "      <td>12</td>\n",
       "      <td>...</td>\n",
       "      <td>0</td>\n",
       "      <td>0</td>\n",
       "      <td>0</td>\n",
       "      <td>0</td>\n",
       "      <td>0</td>\n",
       "      <td>0</td>\n",
       "      <td>0</td>\n",
       "      <td>0</td>\n",
       "      <td>0</td>\n",
       "      <td>0</td>\n",
       "    </tr>\n",
       "    <tr>\n",
       "      <th>3</th>\n",
       "      <td>2016</td>\n",
       "      <td>5</td>\n",
       "      <td>11</td>\n",
       "      <td>9</td>\n",
       "      <td>40</td>\n",
       "      <td>0</td>\n",
       "      <td>2016</td>\n",
       "      <td>5</td>\n",
       "      <td>11</td>\n",
       "      <td>13</td>\n",
       "      <td>...</td>\n",
       "      <td>0</td>\n",
       "      <td>0</td>\n",
       "      <td>0</td>\n",
       "      <td>0</td>\n",
       "      <td>0</td>\n",
       "      <td>0</td>\n",
       "      <td>0</td>\n",
       "      <td>0</td>\n",
       "      <td>0</td>\n",
       "      <td>0</td>\n",
       "    </tr>\n",
       "    <tr>\n",
       "      <th>4</th>\n",
       "      <td>2016</td>\n",
       "      <td>5</td>\n",
       "      <td>11</td>\n",
       "      <td>9</td>\n",
       "      <td>50</td>\n",
       "      <td>0</td>\n",
       "      <td>2016</td>\n",
       "      <td>5</td>\n",
       "      <td>11</td>\n",
       "      <td>12</td>\n",
       "      <td>...</td>\n",
       "      <td>0</td>\n",
       "      <td>0</td>\n",
       "      <td>0</td>\n",
       "      <td>1</td>\n",
       "      <td>0</td>\n",
       "      <td>0</td>\n",
       "      <td>0</td>\n",
       "      <td>0</td>\n",
       "      <td>0</td>\n",
       "      <td>0</td>\n",
       "    </tr>\n",
       "  </tbody>\n",
       "</table>\n",
       "<p>5 rows × 930 columns</p>\n",
       "</div>"
      ],
      "text/plain": [
       "   STD_year  STD_month  STD_day  STD_hour  STD_minute  STD_second  STA_year  \\\n",
       "0      2016          5        4         6          40           0      2016   \n",
       "1      2016          5        5        15          20           0      2016   \n",
       "2      2016          5        6        10           0           0      2016   \n",
       "3      2016          5       11         9          40           0      2016   \n",
       "4      2016          5       11         9          50           0      2016   \n",
       "\n",
       "   STA_month  STA_day  STA_hour  ...  AC_TU 736IOM  AC_TU 736ION  \\\n",
       "0          5        4         7  ...             0             0   \n",
       "1          5        5        20  ...             0             0   \n",
       "2          5        6        12  ...             0             0   \n",
       "3          5       11        13  ...             0             0   \n",
       "4          5       11        12  ...             0             0   \n",
       "\n",
       "   AC_TU 736IOP  AC_TU 736IOQ  AC_TU 736IOR  AC_TU CR9ISA  AC_UG AT7AT7  \\\n",
       "0             0             0             0             0             0   \n",
       "1             0             0             0             0             0   \n",
       "2             0             0             0             0             0   \n",
       "3             0             0             0             0             0   \n",
       "4             0             1             0             0             0   \n",
       "\n",
       "   AC_UG AT7LBD  AC_UG AT7LBE  AC_UG AT7XXX  \n",
       "0             0             0             0  \n",
       "1             0             0             0  \n",
       "2             0             0             0  \n",
       "3             0             0             0  \n",
       "4             0             0             0  \n",
       "\n",
       "[5 rows x 930 columns]"
      ]
     },
     "execution_count": 32,
     "metadata": {},
     "output_type": "execute_result"
    }
   ],
   "source": [
    "Y.head()"
   ]
  },
  {
   "cell_type": "code",
   "execution_count": 33,
   "id": "accessory-communication",
   "metadata": {},
   "outputs": [],
   "source": [
    "stop_hiding = [x for x in X.columns if x not in Y.columns] + [x for x in Y.columns if x not in X.columns]"
   ]
  },
  {
   "cell_type": "code",
   "execution_count": 35,
   "id": "medieval-adolescent",
   "metadata": {},
   "outputs": [],
   "source": [
    "stop_hiding = [x for x in X.columns if x not in Y.columns]\n",
    "X.drop(columns = [x for x in stop_hiding if x in X.columns], axis = 1, inplace=True)\n",
    "Y.drop(columns = [x for x in stop_hiding if x in Y.columns], axis = 1, inplace=True)"
   ]
  },
  {
   "cell_type": "code",
   "execution_count": 36,
   "id": "animal-verification",
   "metadata": {},
   "outputs": [],
   "source": [
    "the_problems = [x for x in Y.columns if x not in X.columns]"
   ]
  },
  {
   "cell_type": "code",
   "execution_count": 38,
   "id": "settled-melissa",
   "metadata": {},
   "outputs": [],
   "source": [
    "Y.drop(columns = the_problems, axis = 1, inplace=True)"
   ]
  },
  {
   "cell_type": "code",
   "execution_count": 39,
   "id": "fewer-locking",
   "metadata": {},
   "outputs": [
    {
     "name": "stdout",
     "output_type": "stream",
     "text": [
      "873\n",
      "873\n"
     ]
    }
   ],
   "source": [
    "print(len(X.columns))\n",
    "print(len(Y.columns))"
   ]
  },
  {
   "cell_type": "markdown",
   "id": "focal-qatar",
   "metadata": {},
   "source": [
    "# MODELLING"
   ]
  },
  {
   "cell_type": "code",
   "execution_count": 40,
   "id": "fourth-progressive",
   "metadata": {},
   "outputs": [],
   "source": [
    "X_train,X_test,y_train,y_test = train_test_split(X,y,test_size = 0.3, random_state = 70)"
   ]
  },
  {
   "cell_type": "code",
   "execution_count": 41,
   "id": "devoted-location",
   "metadata": {},
   "outputs": [
    {
     "data": {
      "text/plain": [
       "LinearRegression()"
      ]
     },
     "execution_count": 41,
     "metadata": {},
     "output_type": "execute_result"
    }
   ],
   "source": [
    "#LINEAR REGRESSION\n",
    "from sklearn.linear_model import LinearRegression\n",
    "linearmodel = LinearRegression()\n",
    "linearmodel.fit(X_train,y_train)"
   ]
  },
  {
   "cell_type": "code",
   "execution_count": 42,
   "id": "loose-saint",
   "metadata": {},
   "outputs": [],
   "source": [
    "answers_lr = linearmodel.predict(Y)"
   ]
  },
  {
   "cell_type": "code",
   "execution_count": 43,
   "id": "ultimate-horizon",
   "metadata": {},
   "outputs": [
    {
     "data": {
      "text/plain": [
       "array([24.11911011, 47.34763718, 22.47716141, ..., 44.68278122,\n",
       "       75.04655838, 51.18473053])"
      ]
     },
     "execution_count": 43,
     "metadata": {},
     "output_type": "execute_result"
    }
   ],
   "source": [
    "linearmodel_prediction = linearmodel.predict(X_test)\n",
    "linearmodel_prediction"
   ]
  },
  {
   "cell_type": "code",
   "execution_count": 44,
   "id": "superior-repeat",
   "metadata": {},
   "outputs": [
    {
     "data": {
      "text/plain": [
       "1213936353257608.8"
      ]
     },
     "execution_count": 44,
     "metadata": {},
     "output_type": "execute_result"
    }
   ],
   "source": [
    "from sklearn import metrics\n",
    "MSE = metrics.mean_squared_error(y_test, linearmodel_prediction)\n",
    "MSE"
   ]
  },
  {
   "cell_type": "code",
   "execution_count": 45,
   "id": "insured-indian",
   "metadata": {},
   "outputs": [
    {
     "data": {
      "text/plain": [
       "34841589.41922152"
      ]
     },
     "execution_count": 45,
     "metadata": {},
     "output_type": "execute_result"
    }
   ],
   "source": [
    "np.sqrt(MSE)"
   ]
  },
  {
   "cell_type": "markdown",
   "id": "prompt-application",
   "metadata": {},
   "source": [
    "RANDOM FOREST REGRESSOR"
   ]
  },
  {
   "cell_type": "code",
   "execution_count": 46,
   "id": "miniature-pollution",
   "metadata": {},
   "outputs": [
    {
     "data": {
      "text/plain": [
       "RandomForestRegressor(max_depth=4, random_state=70)"
      ]
     },
     "execution_count": 46,
     "metadata": {},
     "output_type": "execute_result"
    }
   ],
   "source": [
    "from sklearn.ensemble import RandomForestRegressor\n",
    "randomodel = RandomForestRegressor(max_depth=4, random_state=70,)\n",
    "randomodel.fit(X_train,y_train)"
   ]
  },
  {
   "cell_type": "code",
   "execution_count": 47,
   "id": "civilian-interaction",
   "metadata": {},
   "outputs": [],
   "source": [
    "#from sklearn.preprocessing import MinMaxScaler\n",
    "#x_scalar = MinMaxScaler()\n",
    "#y_scaler = MinMaxScaler()\n",
    "#input_X = x_scaler.fit_transform(df[['columns']])\n",
    "#target_y = y_scaler.fit_transform(df[['target column']])"
   ]
  },
  {
   "cell_type": "code",
   "execution_count": 48,
   "id": "packed-zimbabwe",
   "metadata": {},
   "outputs": [],
   "source": [
    "answers = randomodel.predict(Y)"
   ]
  },
  {
   "cell_type": "code",
   "execution_count": 49,
   "id": "tropical-bristol",
   "metadata": {},
   "outputs": [
    {
     "data": {
      "text/plain": [
       "array([40.85730111, 41.58899167,  0.        , ..., 41.2640853 ,\n",
       "       46.0356605 , 56.97474825])"
      ]
     },
     "execution_count": 49,
     "metadata": {},
     "output_type": "execute_result"
    }
   ],
   "source": [
    "randomodel_prediction = randomodel.predict(X_test)\n",
    "randomodel_prediction"
   ]
  },
  {
   "cell_type": "code",
   "execution_count": 50,
   "id": "innovative-statement",
   "metadata": {},
   "outputs": [
    {
     "data": {
      "text/plain": [
       "14355.344275976144"
      ]
     },
     "execution_count": 50,
     "metadata": {},
     "output_type": "execute_result"
    }
   ],
   "source": [
    "MSE = metrics.mean_squared_error(y_test, randomodel_prediction)\n",
    "MSE"
   ]
  },
  {
   "cell_type": "code",
   "execution_count": 51,
   "id": "enabling-information",
   "metadata": {},
   "outputs": [
    {
     "data": {
      "text/plain": [
       "119.81379000756192"
      ]
     },
     "execution_count": 51,
     "metadata": {},
     "output_type": "execute_result"
    }
   ],
   "source": [
    "np.sqrt(MSE)"
   ]
  },
  {
   "cell_type": "code",
   "execution_count": 52,
   "id": "floral-attitude",
   "metadata": {},
   "outputs": [
    {
     "data": {
      "text/plain": [
       "Text(0.5, 1.0, 'Random Forest Regressor features importance (top 10):')"
      ]
     },
     "execution_count": 52,
     "metadata": {},
     "output_type": "execute_result"
    },
    {
     "data": {
      "image/png": "[encoded data removed]",
      "text/plain": [
       "<Figure size 1440x864 with 1 Axes>"
      ]
     },
     "metadata": {
      "needs_background": "light"
     },
     "output_type": "display_data"
    }
   ],
   "source": [
    "feature_importance_df = pd.DataFrame(randomodel.feature_importances_, columns=['importance'])\n",
    "feature_importance_df['feature'] = X_train.columns\n",
    "\n",
    "plt.figure(figsize=(20, 12));\n",
    "sns.barplot(x=\"importance\", y=\"feature\", data=feature_importance_df.sort_values(by = ['importance'], ascending = False).head(10))\n",
    "plt.title('Random Forest Regressor features importance (top 10):')"
   ]
  },
  {
   "cell_type": "markdown",
   "id": "meaningful-dutch",
   "metadata": {},
   "source": [
    "EXTREME XGBOOST GRADIENT"
   ]
  },
  {
   "cell_type": "code",
   "execution_count": 53,
   "id": "hidden-practice",
   "metadata": {},
   "outputs": [
    {
     "name": "stdout",
     "output_type": "stream",
     "text": [
      "[0]\tvalidation_0-rmse:131.21912\n",
      "[30]\tvalidation_0-rmse:120.06290\n",
      "[60]\tvalidation_0-rmse:118.90904\n",
      "[90]\tvalidation_0-rmse:118.58134\n",
      "[120]\tvalidation_0-rmse:118.27470\n",
      "[150]\tvalidation_0-rmse:118.10717\n",
      "[180]\tvalidation_0-rmse:117.89157\n",
      "[210]\tvalidation_0-rmse:117.79117\n",
      "[240]\tvalidation_0-rmse:117.64648\n",
      "[270]\tvalidation_0-rmse:117.48762\n",
      "[300]\tvalidation_0-rmse:117.37642\n",
      "[330]\tvalidation_0-rmse:117.26536\n",
      "[360]\tvalidation_0-rmse:117.22586\n",
      "[390]\tvalidation_0-rmse:117.16196\n",
      "[420]\tvalidation_0-rmse:117.07156\n",
      "[450]\tvalidation_0-rmse:117.06338\n",
      "[480]\tvalidation_0-rmse:116.98614\n",
      "[510]\tvalidation_0-rmse:116.94501\n",
      "[540]\tvalidation_0-rmse:116.90337\n",
      "[570]\tvalidation_0-rmse:116.82272\n",
      "[600]\tvalidation_0-rmse:116.77144\n",
      "[630]\tvalidation_0-rmse:116.68717\n",
      "[660]\tvalidation_0-rmse:116.68398\n",
      "[690]\tvalidation_0-rmse:116.67895\n",
      "[720]\tvalidation_0-rmse:116.66700\n",
      "[750]\tvalidation_0-rmse:116.61215\n",
      "[780]\tvalidation_0-rmse:116.58667\n",
      "[799]\tvalidation_0-rmse:116.55348\n"
     ]
    },
    {
     "data": {
      "text/plain": [
       "XGBRegressor(base_score=0.5, booster='gbtree', colsample_bylevel=1,\n",
       "             colsample_bynode=1, colsample_bytree=1, gamma=0, gpu_id=-1,\n",
       "             importance_type='gain', interaction_constraints='',\n",
       "             learning_rate=0.05, max_delta_step=0, max_depth=4,\n",
       "             min_child_weight=1, missing=nan, monotone_constraints='()',\n",
       "             n_estimators=800, n_jobs=2, num_parallel_tree=1, random_state=0,\n",
       "             reg_alpha=0, reg_lambda=1, scale_pos_weight=1, subsample=1,\n",
       "             tree_method='exact', validate_parameters=1, verbosity=None)"
      ]
     },
     "execution_count": 53,
     "metadata": {},
     "output_type": "execute_result"
    }
   ],
   "source": [
    "from xgboost import XGBRegressor\n",
    "xgboostmodel = XGBRegressor(learning_rate=0.05, n_estimators=800, max_depth=4)\n",
    "eval_set = [(X_test,y_test)]\n",
    "xgboostmodel.fit(X_train,y_train, eval_set = eval_set, eval_metric = \"rmse\", verbose = 30, early_stopping_rounds=300)"
   ]
  },
  {
   "cell_type": "code",
   "execution_count": 54,
   "id": "forced-holiday",
   "metadata": {},
   "outputs": [
    {
     "data": {
      "image/png": "[encoded data removed]",
      "text/plain": [
       "<Figure size 1440x864 with 1 Axes>"
      ]
     },
     "metadata": {
      "needs_background": "light"
     },
     "output_type": "display_data"
    }
   ],
   "source": [
    "feature_importance_df = pd.DataFrame(xgboostmodel.feature_importances_, columns=['importance'])\n",
    "feature_importance_df['feature'] = X_train.columns\n",
    "\n",
    "plt.figure(figsize=(20, 12));\n",
    "sns.barplot(x=\"importance\", y=\"feature\", data=feature_importance_df.sort_values(by = ['importance'], ascending = False).head(10))\n",
    "plt.title('XGBoost Regressor features importance (top 10):');"
   ]
  },
  {
   "cell_type": "code",
   "execution_count": 55,
   "id": "tight-horizon",
   "metadata": {},
   "outputs": [
    {
     "name": "stderr",
     "output_type": "stream",
     "text": [
      "C:\\Users\\OLADEJI\\anaconda3\\lib\\site-packages\\xgboost\\data.py:114: UserWarning: Use subset (sliced data) of np.ndarray is not recommended because it will generate extra copies and increase memory consumption\n",
      "  \"because it will generate extra copies and increase \" +\n"
     ]
    }
   ],
   "source": [
    "answers_xg = xgboostmodel.predict(Y)"
   ]
  },
  {
   "cell_type": "code",
   "execution_count": 56,
   "id": "limited-crazy",
   "metadata": {},
   "outputs": [],
   "source": [
    "xgboostmodel_prediction = xgboostmodel.predict(X_test)"
   ]
  },
  {
   "cell_type": "code",
   "execution_count": 57,
   "id": "adapted-excerpt",
   "metadata": {},
   "outputs": [
    {
     "data": {
      "text/plain": [
       "13584.180587049794"
      ]
     },
     "execution_count": 57,
     "metadata": {},
     "output_type": "execute_result"
    }
   ],
   "source": [
    "MSE = metrics.mean_squared_error(y_test, xgboostmodel_prediction)\n",
    "MSE"
   ]
  },
  {
   "cell_type": "code",
   "execution_count": 58,
   "id": "frequent-protein",
   "metadata": {},
   "outputs": [
    {
     "data": {
      "text/plain": [
       "116.55119298853099"
      ]
     },
     "execution_count": 58,
     "metadata": {},
     "output_type": "execute_result"
    }
   ],
   "source": [
    "np.sqrt(MSE)"
   ]
  },
  {
   "cell_type": "markdown",
   "id": "trying-engagement",
   "metadata": {},
   "source": [
    "LIGHT GRADIENT BOOSTING"
   ]
  },
  {
   "cell_type": "code",
   "execution_count": 59,
   "id": "floral-transsexual",
   "metadata": {},
   "outputs": [
    {
     "name": "stdout",
     "output_type": "stream",
     "text": [
      "Training until validation scores don't improve for 300 rounds\n",
      "[50]\tvalid_0's rmse: 118.931\tvalid_0's l2: 14144.6\n",
      "[100]\tvalid_0's rmse: 118.266\tvalid_0's l2: 13986.9\n",
      "[150]\tvalid_0's rmse: 117.938\tvalid_0's l2: 13909.4\n",
      "[200]\tvalid_0's rmse: 117.702\tvalid_0's l2: 13853.8\n",
      "[250]\tvalid_0's rmse: 117.528\tvalid_0's l2: 13812.8\n",
      "[300]\tvalid_0's rmse: 117.397\tvalid_0's l2: 13782\n",
      "[350]\tvalid_0's rmse: 117.309\tvalid_0's l2: 13761.3\n",
      "[400]\tvalid_0's rmse: 117.224\tvalid_0's l2: 13741.3\n",
      "[450]\tvalid_0's rmse: 117.171\tvalid_0's l2: 13729\n",
      "[500]\tvalid_0's rmse: 117.086\tvalid_0's l2: 13709.1\n",
      "[550]\tvalid_0's rmse: 117.03\tvalid_0's l2: 13696\n",
      "[600]\tvalid_0's rmse: 116.936\tvalid_0's l2: 13674\n",
      "[650]\tvalid_0's rmse: 116.897\tvalid_0's l2: 13665\n",
      "[700]\tvalid_0's rmse: 116.86\tvalid_0's l2: 13656.2\n",
      "[750]\tvalid_0's rmse: 116.828\tvalid_0's l2: 13648.8\n",
      "[800]\tvalid_0's rmse: 116.797\tvalid_0's l2: 13641.6\n",
      "[850]\tvalid_0's rmse: 116.751\tvalid_0's l2: 13630.9\n",
      "[900]\tvalid_0's rmse: 116.725\tvalid_0's l2: 13624.8\n",
      "[950]\tvalid_0's rmse: 116.695\tvalid_0's l2: 13617.7\n",
      "[1000]\tvalid_0's rmse: 116.67\tvalid_0's l2: 13612\n",
      "Did not meet early stopping. Best iteration is:\n",
      "[1000]\tvalid_0's rmse: 116.67\tvalid_0's l2: 13612\n"
     ]
    },
    {
     "data": {
      "text/plain": [
       "LGBMRegressor(colsample_bytree=1, learning_rate=0.05, max_depth=4,\n",
       "              n_estimators=1000, num_leaves=10, random_state=70)"
      ]
     },
     "execution_count": 59,
     "metadata": {},
     "output_type": "execute_result"
    }
   ],
   "source": [
    "from lightgbm import LGBMRegressor\n",
    "lgbmmodel = LGBMRegressor(num_leaves=10,learning_rate=0.05,n_estimators=1000,max_depth=4,colsample_bytree=1, random_state=70)\n",
    "eval_set = [(X_test,y_test)]\n",
    "lgbmmodel.fit(X_train,y_train, eval_set = eval_set, eval_metric = \"rmse\", verbose = 50, early_stopping_rounds=300)"
   ]
  },
  {
   "cell_type": "code",
   "execution_count": 60,
   "id": "medieval-malawi",
   "metadata": {},
   "outputs": [],
   "source": [
    "answers_lgb = lgbmmodel.predict(Y)"
   ]
  },
  {
   "cell_type": "code",
   "execution_count": 61,
   "id": "ahead-curtis",
   "metadata": {},
   "outputs": [],
   "source": [
    "lgbmodel_prediction = lgbmmodel.predict(X_test)"
   ]
  },
  {
   "cell_type": "code",
   "execution_count": 62,
   "id": "extraordinary-wallace",
   "metadata": {},
   "outputs": [
    {
     "data": {
      "text/plain": [
       "13611.966797728082"
      ]
     },
     "execution_count": 62,
     "metadata": {},
     "output_type": "execute_result"
    }
   ],
   "source": [
    "MSE = metrics.mean_squared_error(y_test, lgbmodel_prediction)\n",
    "MSE"
   ]
  },
  {
   "cell_type": "code",
   "execution_count": 63,
   "id": "great-surface",
   "metadata": {},
   "outputs": [
    {
     "data": {
      "text/plain": [
       "116.67033383739023"
      ]
     },
     "execution_count": 63,
     "metadata": {},
     "output_type": "execute_result"
    }
   ],
   "source": [
    "np.sqrt(MSE)"
   ]
  },
  {
   "cell_type": "code",
   "execution_count": 64,
   "id": "overall-spanking",
   "metadata": {},
   "outputs": [
    {
     "data": {
      "text/html": [
       "<div>\n",
       "<style scoped>\n",
       "    .dataframe tbody tr th:only-of-type {\n",
       "        vertical-align: middle;\n",
       "    }\n",
       "\n",
       "    .dataframe tbody tr th {\n",
       "        vertical-align: top;\n",
       "    }\n",
       "\n",
       "    .dataframe thead th {\n",
       "        text-align: right;\n",
       "    }\n",
       "</style>\n",
       "<table border=\"1\" class=\"dataframe\">\n",
       "  <thead>\n",
       "    <tr style=\"text-align: right;\">\n",
       "      <th></th>\n",
       "      <th>ID</th>\n",
       "      <th>target</th>\n",
       "    </tr>\n",
       "  </thead>\n",
       "  <tbody>\n",
       "    <tr>\n",
       "      <th>0</th>\n",
       "      <td>test_id_0</td>\n",
       "      <td>2470</td>\n",
       "    </tr>\n",
       "    <tr>\n",
       "      <th>1</th>\n",
       "      <td>test_id_1</td>\n",
       "      <td>2944</td>\n",
       "    </tr>\n",
       "    <tr>\n",
       "      <th>2</th>\n",
       "      <td>test_id_2</td>\n",
       "      <td>2585</td>\n",
       "    </tr>\n",
       "    <tr>\n",
       "      <th>3</th>\n",
       "      <td>test_id_3</td>\n",
       "      <td>3264</td>\n",
       "    </tr>\n",
       "    <tr>\n",
       "      <th>4</th>\n",
       "      <td>test_id_4</td>\n",
       "      <td>1369</td>\n",
       "    </tr>\n",
       "  </tbody>\n",
       "</table>\n",
       "</div>"
      ],
      "text/plain": [
       "          ID  target\n",
       "0  test_id_0    2470\n",
       "1  test_id_1    2944\n",
       "2  test_id_2    2585\n",
       "3  test_id_3    3264\n",
       "4  test_id_4    1369"
      ]
     },
     "execution_count": 64,
     "metadata": {},
     "output_type": "execute_result"
    }
   ],
   "source": [
    "submission = pd.read_csv(\"SampleSubmission.csv\")\n",
    "submission.head()"
   ]
  },
  {
   "cell_type": "code",
   "execution_count": 67,
   "id": "enclosed-silence",
   "metadata": {},
   "outputs": [
    {
     "data": {
      "text/html": [
       "<div>\n",
       "<style scoped>\n",
       "    .dataframe tbody tr th:only-of-type {\n",
       "        vertical-align: middle;\n",
       "    }\n",
       "\n",
       "    .dataframe tbody tr th {\n",
       "        vertical-align: top;\n",
       "    }\n",
       "\n",
       "    .dataframe thead th {\n",
       "        text-align: right;\n",
       "    }\n",
       "</style>\n",
       "<table border=\"1\" class=\"dataframe\">\n",
       "  <thead>\n",
       "    <tr style=\"text-align: right;\">\n",
       "      <th></th>\n",
       "      <th>ID</th>\n",
       "      <th>target</th>\n",
       "    </tr>\n",
       "  </thead>\n",
       "  <tbody>\n",
       "    <tr>\n",
       "      <th>0</th>\n",
       "      <td>test_id_0</td>\n",
       "      <td>20.379807</td>\n",
       "    </tr>\n",
       "    <tr>\n",
       "      <th>1</th>\n",
       "      <td>test_id_1</td>\n",
       "      <td>39.997879</td>\n",
       "    </tr>\n",
       "    <tr>\n",
       "      <th>2</th>\n",
       "      <td>test_id_2</td>\n",
       "      <td>31.908243</td>\n",
       "    </tr>\n",
       "    <tr>\n",
       "      <th>3</th>\n",
       "      <td>test_id_3</td>\n",
       "      <td>17.540512</td>\n",
       "    </tr>\n",
       "    <tr>\n",
       "      <th>4</th>\n",
       "      <td>test_id_4</td>\n",
       "      <td>20.730028</td>\n",
       "    </tr>\n",
       "  </tbody>\n",
       "</table>\n",
       "</div>"
      ],
      "text/plain": [
       "          ID     target\n",
       "0  test_id_0  20.379807\n",
       "1  test_id_1  39.997879\n",
       "2  test_id_2  31.908243\n",
       "3  test_id_3  17.540512\n",
       "4  test_id_4  20.730028"
      ]
     },
     "execution_count": 67,
     "metadata": {},
     "output_type": "execute_result"
    }
   ],
   "source": [
    "submission.target = answers_xg\n",
    "submission.head()"
   ]
  },
  {
   "cell_type": "code",
   "execution_count": 68,
   "id": "dietary-soundtrack",
   "metadata": {},
   "outputs": [],
   "source": [
    "submission[[\"ID\",\"target\"]].to_csv(\"sca.csv\", index=False)"
   ]
  },
  {
   "cell_type": "code",
   "execution_count": null,
   "id": "single-christmas",
   "metadata": {},
   "outputs": [],
   "source": []
  }
 ],
 "metadata": {
  "kernelspec": {
   "display_name": "Python 3",
   "language": "python",
   "name": "python3"
  },
  "language_info": {
   "codemirror_mode": {
    "name": "ipython",
    "version": 3
   },
   "file_extension": ".py",
   "mimetype": "text/x-python",
   "name": "python",
   "nbconvert_exporter": "python",
   "pygments_lexer": "ipython3",
   "version": "3.7.7"
  }
 },
 "nbformat": 4,
 "nbformat_minor": 5
}
